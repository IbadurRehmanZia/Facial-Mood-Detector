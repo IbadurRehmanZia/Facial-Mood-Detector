{
  "nbformat": 4,
  "nbformat_minor": 0,
  "metadata": {
    "colab": {
      "provenance": [],
      "gpuType": "T4"
    },
    "kernelspec": {
      "name": "python3",
      "display_name": "Python 3"
    },
    "language_info": {
      "name": "python"
    },
    "accelerator": "GPU",
    "widgets": {
      "application/vnd.jupyter.widget-state+json": {
        "af8e0a93ab2e4ec4a49337a294bffcf7": {
          "model_module": "@jupyter-widgets/controls",
          "model_name": "HBoxModel",
          "model_module_version": "1.5.0",
          "state": {
            "_dom_classes": [],
            "_model_module": "@jupyter-widgets/controls",
            "_model_module_version": "1.5.0",
            "_model_name": "HBoxModel",
            "_view_count": null,
            "_view_module": "@jupyter-widgets/controls",
            "_view_module_version": "1.5.0",
            "_view_name": "HBoxView",
            "box_style": "",
            "children": [
              "IPY_MODEL_b0087d0500c14df38353e5fa437cbadc",
              "IPY_MODEL_fc7680158ec747c598d8d16be778eb44",
              "IPY_MODEL_01f08664ba4f46acb18809de4de8b3e9"
            ],
            "layout": "IPY_MODEL_a8490e9e5fd9470db61e11f000e14082"
          }
        },
        "b0087d0500c14df38353e5fa437cbadc": {
          "model_module": "@jupyter-widgets/controls",
          "model_name": "HTMLModel",
          "model_module_version": "1.5.0",
          "state": {
            "_dom_classes": [],
            "_model_module": "@jupyter-widgets/controls",
            "_model_module_version": "1.5.0",
            "_model_name": "HTMLModel",
            "_view_count": null,
            "_view_module": "@jupyter-widgets/controls",
            "_view_module_version": "1.5.0",
            "_view_name": "HTMLView",
            "description": "",
            "description_tooltip": null,
            "layout": "IPY_MODEL_96d46cbbaffd492caee3fa68739f3af9",
            "placeholder": "​",
            "style": "IPY_MODEL_1df26243807c48938141214b8afbe414",
            "value": "100%"
          }
        },
        "fc7680158ec747c598d8d16be778eb44": {
          "model_module": "@jupyter-widgets/controls",
          "model_name": "FloatProgressModel",
          "model_module_version": "1.5.0",
          "state": {
            "_dom_classes": [],
            "_model_module": "@jupyter-widgets/controls",
            "_model_module_version": "1.5.0",
            "_model_name": "FloatProgressModel",
            "_view_count": null,
            "_view_module": "@jupyter-widgets/controls",
            "_view_module_version": "1.5.0",
            "_view_name": "ProgressView",
            "bar_style": "success",
            "description": "",
            "description_tooltip": null,
            "layout": "IPY_MODEL_03bd33ba7fe045d49dbb12f98dd732e1",
            "max": 28821,
            "min": 0,
            "orientation": "horizontal",
            "style": "IPY_MODEL_053cfc7e62a043e69aaf1008cd75dad5",
            "value": 28821
          }
        },
        "01f08664ba4f46acb18809de4de8b3e9": {
          "model_module": "@jupyter-widgets/controls",
          "model_name": "HTMLModel",
          "model_module_version": "1.5.0",
          "state": {
            "_dom_classes": [],
            "_model_module": "@jupyter-widgets/controls",
            "_model_module_version": "1.5.0",
            "_model_name": "HTMLModel",
            "_view_count": null,
            "_view_module": "@jupyter-widgets/controls",
            "_view_module_version": "1.5.0",
            "_view_name": "HTMLView",
            "description": "",
            "description_tooltip": null,
            "layout": "IPY_MODEL_c63a992c134e4185bfcdfa38790a8b2f",
            "placeholder": "​",
            "style": "IPY_MODEL_2362bfc059b64f5a978cf79020229dda",
            "value": " 28821/28821 [00:04&lt;00:00, 6469.26it/s]"
          }
        },
        "a8490e9e5fd9470db61e11f000e14082": {
          "model_module": "@jupyter-widgets/base",
          "model_name": "LayoutModel",
          "model_module_version": "1.2.0",
          "state": {
            "_model_module": "@jupyter-widgets/base",
            "_model_module_version": "1.2.0",
            "_model_name": "LayoutModel",
            "_view_count": null,
            "_view_module": "@jupyter-widgets/base",
            "_view_module_version": "1.2.0",
            "_view_name": "LayoutView",
            "align_content": null,
            "align_items": null,
            "align_self": null,
            "border": null,
            "bottom": null,
            "display": null,
            "flex": null,
            "flex_flow": null,
            "grid_area": null,
            "grid_auto_columns": null,
            "grid_auto_flow": null,
            "grid_auto_rows": null,
            "grid_column": null,
            "grid_gap": null,
            "grid_row": null,
            "grid_template_areas": null,
            "grid_template_columns": null,
            "grid_template_rows": null,
            "height": null,
            "justify_content": null,
            "justify_items": null,
            "left": null,
            "margin": null,
            "max_height": null,
            "max_width": null,
            "min_height": null,
            "min_width": null,
            "object_fit": null,
            "object_position": null,
            "order": null,
            "overflow": null,
            "overflow_x": null,
            "overflow_y": null,
            "padding": null,
            "right": null,
            "top": null,
            "visibility": null,
            "width": null
          }
        },
        "96d46cbbaffd492caee3fa68739f3af9": {
          "model_module": "@jupyter-widgets/base",
          "model_name": "LayoutModel",
          "model_module_version": "1.2.0",
          "state": {
            "_model_module": "@jupyter-widgets/base",
            "_model_module_version": "1.2.0",
            "_model_name": "LayoutModel",
            "_view_count": null,
            "_view_module": "@jupyter-widgets/base",
            "_view_module_version": "1.2.0",
            "_view_name": "LayoutView",
            "align_content": null,
            "align_items": null,
            "align_self": null,
            "border": null,
            "bottom": null,
            "display": null,
            "flex": null,
            "flex_flow": null,
            "grid_area": null,
            "grid_auto_columns": null,
            "grid_auto_flow": null,
            "grid_auto_rows": null,
            "grid_column": null,
            "grid_gap": null,
            "grid_row": null,
            "grid_template_areas": null,
            "grid_template_columns": null,
            "grid_template_rows": null,
            "height": null,
            "justify_content": null,
            "justify_items": null,
            "left": null,
            "margin": null,
            "max_height": null,
            "max_width": null,
            "min_height": null,
            "min_width": null,
            "object_fit": null,
            "object_position": null,
            "order": null,
            "overflow": null,
            "overflow_x": null,
            "overflow_y": null,
            "padding": null,
            "right": null,
            "top": null,
            "visibility": null,
            "width": null
          }
        },
        "1df26243807c48938141214b8afbe414": {
          "model_module": "@jupyter-widgets/controls",
          "model_name": "DescriptionStyleModel",
          "model_module_version": "1.5.0",
          "state": {
            "_model_module": "@jupyter-widgets/controls",
            "_model_module_version": "1.5.0",
            "_model_name": "DescriptionStyleModel",
            "_view_count": null,
            "_view_module": "@jupyter-widgets/base",
            "_view_module_version": "1.2.0",
            "_view_name": "StyleView",
            "description_width": ""
          }
        },
        "03bd33ba7fe045d49dbb12f98dd732e1": {
          "model_module": "@jupyter-widgets/base",
          "model_name": "LayoutModel",
          "model_module_version": "1.2.0",
          "state": {
            "_model_module": "@jupyter-widgets/base",
            "_model_module_version": "1.2.0",
            "_model_name": "LayoutModel",
            "_view_count": null,
            "_view_module": "@jupyter-widgets/base",
            "_view_module_version": "1.2.0",
            "_view_name": "LayoutView",
            "align_content": null,
            "align_items": null,
            "align_self": null,
            "border": null,
            "bottom": null,
            "display": null,
            "flex": null,
            "flex_flow": null,
            "grid_area": null,
            "grid_auto_columns": null,
            "grid_auto_flow": null,
            "grid_auto_rows": null,
            "grid_column": null,
            "grid_gap": null,
            "grid_row": null,
            "grid_template_areas": null,
            "grid_template_columns": null,
            "grid_template_rows": null,
            "height": null,
            "justify_content": null,
            "justify_items": null,
            "left": null,
            "margin": null,
            "max_height": null,
            "max_width": null,
            "min_height": null,
            "min_width": null,
            "object_fit": null,
            "object_position": null,
            "order": null,
            "overflow": null,
            "overflow_x": null,
            "overflow_y": null,
            "padding": null,
            "right": null,
            "top": null,
            "visibility": null,
            "width": null
          }
        },
        "053cfc7e62a043e69aaf1008cd75dad5": {
          "model_module": "@jupyter-widgets/controls",
          "model_name": "ProgressStyleModel",
          "model_module_version": "1.5.0",
          "state": {
            "_model_module": "@jupyter-widgets/controls",
            "_model_module_version": "1.5.0",
            "_model_name": "ProgressStyleModel",
            "_view_count": null,
            "_view_module": "@jupyter-widgets/base",
            "_view_module_version": "1.2.0",
            "_view_name": "StyleView",
            "bar_color": null,
            "description_width": ""
          }
        },
        "c63a992c134e4185bfcdfa38790a8b2f": {
          "model_module": "@jupyter-widgets/base",
          "model_name": "LayoutModel",
          "model_module_version": "1.2.0",
          "state": {
            "_model_module": "@jupyter-widgets/base",
            "_model_module_version": "1.2.0",
            "_model_name": "LayoutModel",
            "_view_count": null,
            "_view_module": "@jupyter-widgets/base",
            "_view_module_version": "1.2.0",
            "_view_name": "LayoutView",
            "align_content": null,
            "align_items": null,
            "align_self": null,
            "border": null,
            "bottom": null,
            "display": null,
            "flex": null,
            "flex_flow": null,
            "grid_area": null,
            "grid_auto_columns": null,
            "grid_auto_flow": null,
            "grid_auto_rows": null,
            "grid_column": null,
            "grid_gap": null,
            "grid_row": null,
            "grid_template_areas": null,
            "grid_template_columns": null,
            "grid_template_rows": null,
            "height": null,
            "justify_content": null,
            "justify_items": null,
            "left": null,
            "margin": null,
            "max_height": null,
            "max_width": null,
            "min_height": null,
            "min_width": null,
            "object_fit": null,
            "object_position": null,
            "order": null,
            "overflow": null,
            "overflow_x": null,
            "overflow_y": null,
            "padding": null,
            "right": null,
            "top": null,
            "visibility": null,
            "width": null
          }
        },
        "2362bfc059b64f5a978cf79020229dda": {
          "model_module": "@jupyter-widgets/controls",
          "model_name": "DescriptionStyleModel",
          "model_module_version": "1.5.0",
          "state": {
            "_model_module": "@jupyter-widgets/controls",
            "_model_module_version": "1.5.0",
            "_model_name": "DescriptionStyleModel",
            "_view_count": null,
            "_view_module": "@jupyter-widgets/base",
            "_view_module_version": "1.2.0",
            "_view_name": "StyleView",
            "description_width": ""
          }
        },
        "cbf177fe02e44df195608b1b65692453": {
          "model_module": "@jupyter-widgets/controls",
          "model_name": "HBoxModel",
          "model_module_version": "1.5.0",
          "state": {
            "_dom_classes": [],
            "_model_module": "@jupyter-widgets/controls",
            "_model_module_version": "1.5.0",
            "_model_name": "HBoxModel",
            "_view_count": null,
            "_view_module": "@jupyter-widgets/controls",
            "_view_module_version": "1.5.0",
            "_view_name": "HBoxView",
            "box_style": "",
            "children": [
              "IPY_MODEL_bf6737670cea4d69aa6ec876976890c5",
              "IPY_MODEL_9b42aaed9aea4ae1844953f70480216a",
              "IPY_MODEL_dc5df2a72b2b47feabf6338736b10919"
            ],
            "layout": "IPY_MODEL_d45df65118bd4bb3981e37a1618973df"
          }
        },
        "bf6737670cea4d69aa6ec876976890c5": {
          "model_module": "@jupyter-widgets/controls",
          "model_name": "HTMLModel",
          "model_module_version": "1.5.0",
          "state": {
            "_dom_classes": [],
            "_model_module": "@jupyter-widgets/controls",
            "_model_module_version": "1.5.0",
            "_model_name": "HTMLModel",
            "_view_count": null,
            "_view_module": "@jupyter-widgets/controls",
            "_view_module_version": "1.5.0",
            "_view_name": "HTMLView",
            "description": "",
            "description_tooltip": null,
            "layout": "IPY_MODEL_613ba78bb8d54694aae7448117ca5aae",
            "placeholder": "​",
            "style": "IPY_MODEL_bbd7adf24fd8483abac4ef25c7631fec",
            "value": "100%"
          }
        },
        "9b42aaed9aea4ae1844953f70480216a": {
          "model_module": "@jupyter-widgets/controls",
          "model_name": "FloatProgressModel",
          "model_module_version": "1.5.0",
          "state": {
            "_dom_classes": [],
            "_model_module": "@jupyter-widgets/controls",
            "_model_module_version": "1.5.0",
            "_model_name": "FloatProgressModel",
            "_view_count": null,
            "_view_module": "@jupyter-widgets/controls",
            "_view_module_version": "1.5.0",
            "_view_name": "ProgressView",
            "bar_style": "success",
            "description": "",
            "description_tooltip": null,
            "layout": "IPY_MODEL_5bd2e7b882b040c1af4bbc1d1e4765ed",
            "max": 7066,
            "min": 0,
            "orientation": "horizontal",
            "style": "IPY_MODEL_4524683687f24775b97feef625ceab9d",
            "value": 7066
          }
        },
        "dc5df2a72b2b47feabf6338736b10919": {
          "model_module": "@jupyter-widgets/controls",
          "model_name": "HTMLModel",
          "model_module_version": "1.5.0",
          "state": {
            "_dom_classes": [],
            "_model_module": "@jupyter-widgets/controls",
            "_model_module_version": "1.5.0",
            "_model_name": "HTMLModel",
            "_view_count": null,
            "_view_module": "@jupyter-widgets/controls",
            "_view_module_version": "1.5.0",
            "_view_name": "HTMLView",
            "description": "",
            "description_tooltip": null,
            "layout": "IPY_MODEL_9c2f55b246cb4f909aa999a0bf639cde",
            "placeholder": "​",
            "style": "IPY_MODEL_a6411f50f6394d9c9d366f0f07cd2801",
            "value": " 7066/7066 [00:01&lt;00:00, 7044.16it/s]"
          }
        },
        "d45df65118bd4bb3981e37a1618973df": {
          "model_module": "@jupyter-widgets/base",
          "model_name": "LayoutModel",
          "model_module_version": "1.2.0",
          "state": {
            "_model_module": "@jupyter-widgets/base",
            "_model_module_version": "1.2.0",
            "_model_name": "LayoutModel",
            "_view_count": null,
            "_view_module": "@jupyter-widgets/base",
            "_view_module_version": "1.2.0",
            "_view_name": "LayoutView",
            "align_content": null,
            "align_items": null,
            "align_self": null,
            "border": null,
            "bottom": null,
            "display": null,
            "flex": null,
            "flex_flow": null,
            "grid_area": null,
            "grid_auto_columns": null,
            "grid_auto_flow": null,
            "grid_auto_rows": null,
            "grid_column": null,
            "grid_gap": null,
            "grid_row": null,
            "grid_template_areas": null,
            "grid_template_columns": null,
            "grid_template_rows": null,
            "height": null,
            "justify_content": null,
            "justify_items": null,
            "left": null,
            "margin": null,
            "max_height": null,
            "max_width": null,
            "min_height": null,
            "min_width": null,
            "object_fit": null,
            "object_position": null,
            "order": null,
            "overflow": null,
            "overflow_x": null,
            "overflow_y": null,
            "padding": null,
            "right": null,
            "top": null,
            "visibility": null,
            "width": null
          }
        },
        "613ba78bb8d54694aae7448117ca5aae": {
          "model_module": "@jupyter-widgets/base",
          "model_name": "LayoutModel",
          "model_module_version": "1.2.0",
          "state": {
            "_model_module": "@jupyter-widgets/base",
            "_model_module_version": "1.2.0",
            "_model_name": "LayoutModel",
            "_view_count": null,
            "_view_module": "@jupyter-widgets/base",
            "_view_module_version": "1.2.0",
            "_view_name": "LayoutView",
            "align_content": null,
            "align_items": null,
            "align_self": null,
            "border": null,
            "bottom": null,
            "display": null,
            "flex": null,
            "flex_flow": null,
            "grid_area": null,
            "grid_auto_columns": null,
            "grid_auto_flow": null,
            "grid_auto_rows": null,
            "grid_column": null,
            "grid_gap": null,
            "grid_row": null,
            "grid_template_areas": null,
            "grid_template_columns": null,
            "grid_template_rows": null,
            "height": null,
            "justify_content": null,
            "justify_items": null,
            "left": null,
            "margin": null,
            "max_height": null,
            "max_width": null,
            "min_height": null,
            "min_width": null,
            "object_fit": null,
            "object_position": null,
            "order": null,
            "overflow": null,
            "overflow_x": null,
            "overflow_y": null,
            "padding": null,
            "right": null,
            "top": null,
            "visibility": null,
            "width": null
          }
        },
        "bbd7adf24fd8483abac4ef25c7631fec": {
          "model_module": "@jupyter-widgets/controls",
          "model_name": "DescriptionStyleModel",
          "model_module_version": "1.5.0",
          "state": {
            "_model_module": "@jupyter-widgets/controls",
            "_model_module_version": "1.5.0",
            "_model_name": "DescriptionStyleModel",
            "_view_count": null,
            "_view_module": "@jupyter-widgets/base",
            "_view_module_version": "1.2.0",
            "_view_name": "StyleView",
            "description_width": ""
          }
        },
        "5bd2e7b882b040c1af4bbc1d1e4765ed": {
          "model_module": "@jupyter-widgets/base",
          "model_name": "LayoutModel",
          "model_module_version": "1.2.0",
          "state": {
            "_model_module": "@jupyter-widgets/base",
            "_model_module_version": "1.2.0",
            "_model_name": "LayoutModel",
            "_view_count": null,
            "_view_module": "@jupyter-widgets/base",
            "_view_module_version": "1.2.0",
            "_view_name": "LayoutView",
            "align_content": null,
            "align_items": null,
            "align_self": null,
            "border": null,
            "bottom": null,
            "display": null,
            "flex": null,
            "flex_flow": null,
            "grid_area": null,
            "grid_auto_columns": null,
            "grid_auto_flow": null,
            "grid_auto_rows": null,
            "grid_column": null,
            "grid_gap": null,
            "grid_row": null,
            "grid_template_areas": null,
            "grid_template_columns": null,
            "grid_template_rows": null,
            "height": null,
            "justify_content": null,
            "justify_items": null,
            "left": null,
            "margin": null,
            "max_height": null,
            "max_width": null,
            "min_height": null,
            "min_width": null,
            "object_fit": null,
            "object_position": null,
            "order": null,
            "overflow": null,
            "overflow_x": null,
            "overflow_y": null,
            "padding": null,
            "right": null,
            "top": null,
            "visibility": null,
            "width": null
          }
        },
        "4524683687f24775b97feef625ceab9d": {
          "model_module": "@jupyter-widgets/controls",
          "model_name": "ProgressStyleModel",
          "model_module_version": "1.5.0",
          "state": {
            "_model_module": "@jupyter-widgets/controls",
            "_model_module_version": "1.5.0",
            "_model_name": "ProgressStyleModel",
            "_view_count": null,
            "_view_module": "@jupyter-widgets/base",
            "_view_module_version": "1.2.0",
            "_view_name": "StyleView",
            "bar_color": null,
            "description_width": ""
          }
        },
        "9c2f55b246cb4f909aa999a0bf639cde": {
          "model_module": "@jupyter-widgets/base",
          "model_name": "LayoutModel",
          "model_module_version": "1.2.0",
          "state": {
            "_model_module": "@jupyter-widgets/base",
            "_model_module_version": "1.2.0",
            "_model_name": "LayoutModel",
            "_view_count": null,
            "_view_module": "@jupyter-widgets/base",
            "_view_module_version": "1.2.0",
            "_view_name": "LayoutView",
            "align_content": null,
            "align_items": null,
            "align_self": null,
            "border": null,
            "bottom": null,
            "display": null,
            "flex": null,
            "flex_flow": null,
            "grid_area": null,
            "grid_auto_columns": null,
            "grid_auto_flow": null,
            "grid_auto_rows": null,
            "grid_column": null,
            "grid_gap": null,
            "grid_row": null,
            "grid_template_areas": null,
            "grid_template_columns": null,
            "grid_template_rows": null,
            "height": null,
            "justify_content": null,
            "justify_items": null,
            "left": null,
            "margin": null,
            "max_height": null,
            "max_width": null,
            "min_height": null,
            "min_width": null,
            "object_fit": null,
            "object_position": null,
            "order": null,
            "overflow": null,
            "overflow_x": null,
            "overflow_y": null,
            "padding": null,
            "right": null,
            "top": null,
            "visibility": null,
            "width": null
          }
        },
        "a6411f50f6394d9c9d366f0f07cd2801": {
          "model_module": "@jupyter-widgets/controls",
          "model_name": "DescriptionStyleModel",
          "model_module_version": "1.5.0",
          "state": {
            "_model_module": "@jupyter-widgets/controls",
            "_model_module_version": "1.5.0",
            "_model_name": "DescriptionStyleModel",
            "_view_count": null,
            "_view_module": "@jupyter-widgets/base",
            "_view_module_version": "1.2.0",
            "_view_name": "StyleView",
            "description_width": ""
          }
        }
      }
    }
  },
  "cells": [
    {
      "cell_type": "code",
      "execution_count": 1,
      "metadata": {
        "id": "0PRecEjY5mvq"
      },
      "outputs": [],
      "source": [
        "from keras.utils import to_categorical\n",
        "from keras.preprocessing.image import load_img\n",
        "from keras.models import Sequential\n",
        "from keras.layers import Dense, Conv2D, Dropout, Flatten, MaxPooling2D\n",
        "import os\n",
        "import pandas as pd\n",
        "import numpy as np"
      ]
    },
    {
      "cell_type": "code",
      "source": [
        "from google.colab import files\n",
        "\n",
        "uploaded = files.upload()\n",
        "\n",
        "for fn in uploaded.keys():\n",
        "  print('User uploaded file \"{name}\" with length {length} bytes'.format(\n",
        "      name=fn, length=len(uploaded[fn])))\n",
        "\n",
        "# Then move kaggle.json into the folder where the API expects to find it.\n",
        "\n",
        "!mkdir -p ~/.kaggle/ && mv kaggle.json ~/.kaggle/ && chmod 600 ~/.kaggle/kaggle.json"
      ],
      "metadata": {
        "colab": {
          "base_uri": "https://localhost:8080/",
          "height": 91
        },
        "id": "zFYjt25ZSXoa",
        "outputId": "cf3aff73-f5c1-4009-b47c-83d352a0ad2e"
      },
      "execution_count": 2,
      "outputs": [
        {
          "output_type": "display_data",
          "data": {
            "text/plain": [
              "<IPython.core.display.HTML object>"
            ],
            "text/html": [
              "\n",
              "     <input type=\"file\" id=\"files-55f4725b-d171-4638-9bb9-7f8042c3414c\" name=\"files[]\" multiple disabled\n",
              "        style=\"border:none\" />\n",
              "     <output id=\"result-55f4725b-d171-4638-9bb9-7f8042c3414c\">\n",
              "      Upload widget is only available when the cell has been executed in the\n",
              "      current browser session. Please rerun this cell to enable.\n",
              "      </output>\n",
              "      <script>// Copyright 2017 Google LLC\n",
              "//\n",
              "// Licensed under the Apache License, Version 2.0 (the \"License\");\n",
              "// you may not use this file except in compliance with the License.\n",
              "// You may obtain a copy of the License at\n",
              "//\n",
              "//      http://www.apache.org/licenses/LICENSE-2.0\n",
              "//\n",
              "// Unless required by applicable law or agreed to in writing, software\n",
              "// distributed under the License is distributed on an \"AS IS\" BASIS,\n",
              "// WITHOUT WARRANTIES OR CONDITIONS OF ANY KIND, either express or implied.\n",
              "// See the License for the specific language governing permissions and\n",
              "// limitations under the License.\n",
              "\n",
              "/**\n",
              " * @fileoverview Helpers for google.colab Python module.\n",
              " */\n",
              "(function(scope) {\n",
              "function span(text, styleAttributes = {}) {\n",
              "  const element = document.createElement('span');\n",
              "  element.textContent = text;\n",
              "  for (const key of Object.keys(styleAttributes)) {\n",
              "    element.style[key] = styleAttributes[key];\n",
              "  }\n",
              "  return element;\n",
              "}\n",
              "\n",
              "// Max number of bytes which will be uploaded at a time.\n",
              "const MAX_PAYLOAD_SIZE = 100 * 1024;\n",
              "\n",
              "function _uploadFiles(inputId, outputId) {\n",
              "  const steps = uploadFilesStep(inputId, outputId);\n",
              "  const outputElement = document.getElementById(outputId);\n",
              "  // Cache steps on the outputElement to make it available for the next call\n",
              "  // to uploadFilesContinue from Python.\n",
              "  outputElement.steps = steps;\n",
              "\n",
              "  return _uploadFilesContinue(outputId);\n",
              "}\n",
              "\n",
              "// This is roughly an async generator (not supported in the browser yet),\n",
              "// where there are multiple asynchronous steps and the Python side is going\n",
              "// to poll for completion of each step.\n",
              "// This uses a Promise to block the python side on completion of each step,\n",
              "// then passes the result of the previous step as the input to the next step.\n",
              "function _uploadFilesContinue(outputId) {\n",
              "  const outputElement = document.getElementById(outputId);\n",
              "  const steps = outputElement.steps;\n",
              "\n",
              "  const next = steps.next(outputElement.lastPromiseValue);\n",
              "  return Promise.resolve(next.value.promise).then((value) => {\n",
              "    // Cache the last promise value to make it available to the next\n",
              "    // step of the generator.\n",
              "    outputElement.lastPromiseValue = value;\n",
              "    return next.value.response;\n",
              "  });\n",
              "}\n",
              "\n",
              "/**\n",
              " * Generator function which is called between each async step of the upload\n",
              " * process.\n",
              " * @param {string} inputId Element ID of the input file picker element.\n",
              " * @param {string} outputId Element ID of the output display.\n",
              " * @return {!Iterable<!Object>} Iterable of next steps.\n",
              " */\n",
              "function* uploadFilesStep(inputId, outputId) {\n",
              "  const inputElement = document.getElementById(inputId);\n",
              "  inputElement.disabled = false;\n",
              "\n",
              "  const outputElement = document.getElementById(outputId);\n",
              "  outputElement.innerHTML = '';\n",
              "\n",
              "  const pickedPromise = new Promise((resolve) => {\n",
              "    inputElement.addEventListener('change', (e) => {\n",
              "      resolve(e.target.files);\n",
              "    });\n",
              "  });\n",
              "\n",
              "  const cancel = document.createElement('button');\n",
              "  inputElement.parentElement.appendChild(cancel);\n",
              "  cancel.textContent = 'Cancel upload';\n",
              "  const cancelPromise = new Promise((resolve) => {\n",
              "    cancel.onclick = () => {\n",
              "      resolve(null);\n",
              "    };\n",
              "  });\n",
              "\n",
              "  // Wait for the user to pick the files.\n",
              "  const files = yield {\n",
              "    promise: Promise.race([pickedPromise, cancelPromise]),\n",
              "    response: {\n",
              "      action: 'starting',\n",
              "    }\n",
              "  };\n",
              "\n",
              "  cancel.remove();\n",
              "\n",
              "  // Disable the input element since further picks are not allowed.\n",
              "  inputElement.disabled = true;\n",
              "\n",
              "  if (!files) {\n",
              "    return {\n",
              "      response: {\n",
              "        action: 'complete',\n",
              "      }\n",
              "    };\n",
              "  }\n",
              "\n",
              "  for (const file of files) {\n",
              "    const li = document.createElement('li');\n",
              "    li.append(span(file.name, {fontWeight: 'bold'}));\n",
              "    li.append(span(\n",
              "        `(${file.type || 'n/a'}) - ${file.size} bytes, ` +\n",
              "        `last modified: ${\n",
              "            file.lastModifiedDate ? file.lastModifiedDate.toLocaleDateString() :\n",
              "                                    'n/a'} - `));\n",
              "    const percent = span('0% done');\n",
              "    li.appendChild(percent);\n",
              "\n",
              "    outputElement.appendChild(li);\n",
              "\n",
              "    const fileDataPromise = new Promise((resolve) => {\n",
              "      const reader = new FileReader();\n",
              "      reader.onload = (e) => {\n",
              "        resolve(e.target.result);\n",
              "      };\n",
              "      reader.readAsArrayBuffer(file);\n",
              "    });\n",
              "    // Wait for the data to be ready.\n",
              "    let fileData = yield {\n",
              "      promise: fileDataPromise,\n",
              "      response: {\n",
              "        action: 'continue',\n",
              "      }\n",
              "    };\n",
              "\n",
              "    // Use a chunked sending to avoid message size limits. See b/62115660.\n",
              "    let position = 0;\n",
              "    do {\n",
              "      const length = Math.min(fileData.byteLength - position, MAX_PAYLOAD_SIZE);\n",
              "      const chunk = new Uint8Array(fileData, position, length);\n",
              "      position += length;\n",
              "\n",
              "      const base64 = btoa(String.fromCharCode.apply(null, chunk));\n",
              "      yield {\n",
              "        response: {\n",
              "          action: 'append',\n",
              "          file: file.name,\n",
              "          data: base64,\n",
              "        },\n",
              "      };\n",
              "\n",
              "      let percentDone = fileData.byteLength === 0 ?\n",
              "          100 :\n",
              "          Math.round((position / fileData.byteLength) * 100);\n",
              "      percent.textContent = `${percentDone}% done`;\n",
              "\n",
              "    } while (position < fileData.byteLength);\n",
              "  }\n",
              "\n",
              "  // All done.\n",
              "  yield {\n",
              "    response: {\n",
              "      action: 'complete',\n",
              "    }\n",
              "  };\n",
              "}\n",
              "\n",
              "scope.google = scope.google || {};\n",
              "scope.google.colab = scope.google.colab || {};\n",
              "scope.google.colab._files = {\n",
              "  _uploadFiles,\n",
              "  _uploadFilesContinue,\n",
              "};\n",
              "})(self);\n",
              "</script> "
            ]
          },
          "metadata": {}
        },
        {
          "output_type": "stream",
          "name": "stdout",
          "text": [
            "Saving kaggle.json to kaggle.json\n",
            "User uploaded file \"kaggle.json\" with length 67 bytes\n"
          ]
        }
      ]
    },
    {
      "cell_type": "code",
      "source": [
        "!kaggle datasets download -d jonathanoheix/face-expression-recognition-dataset"
      ],
      "metadata": {
        "id": "B2SGEyEmSrUj",
        "outputId": "b378b9bc-57d5-4ec4-e5aa-9b6d44d08aa1",
        "colab": {
          "base_uri": "https://localhost:8080/"
        }
      },
      "execution_count": 3,
      "outputs": [
        {
          "output_type": "stream",
          "name": "stdout",
          "text": [
            "Downloading face-expression-recognition-dataset.zip to /content\n",
            " 88% 106M/121M [00:00<00:00, 131MB/s] \n",
            "100% 121M/121M [00:00<00:00, 137MB/s]\n"
          ]
        }
      ]
    },
    {
      "cell_type": "code",
      "source": [
        "from zipfile import ZipFile\n",
        "\n",
        "file_name = '/content/face-expression-recognition-dataset.zip'\n",
        "\n",
        "\n",
        "# Extract the contents of the zip file\n",
        "with ZipFile(file_name,'r') as zip:\n",
        "  zip.extractall()\n",
        "  print('Data has been extracted')\n"
      ],
      "metadata": {
        "id": "EKZlhc9QS4te",
        "outputId": "3e285911-f672-4a74-feca-fee9e6d2a89e",
        "colab": {
          "base_uri": "https://localhost:8080/"
        }
      },
      "execution_count": 4,
      "outputs": [
        {
          "output_type": "stream",
          "name": "stdout",
          "text": [
            "Data has been extracted\n"
          ]
        }
      ]
    },
    {
      "cell_type": "code",
      "source": [
        "TRAIN_DIR = '/content/images/train'\n",
        "TEST_DIR = '/content/images/test'"
      ],
      "metadata": {
        "id": "KUzun4QJTMG7"
      },
      "execution_count": 6,
      "outputs": []
    },
    {
      "cell_type": "code",
      "source": [
        "def createdataframe(dir):\n",
        "    image_paths = []\n",
        "    labels = []\n",
        "    for label in os.listdir(dir):\n",
        "        for imagename in os.listdir(os.path.join(dir,label)):\n",
        "            image_paths.append(os.path.join(dir,label,imagename))\n",
        "            labels.append(label)\n",
        "        print(label, \"completed\")\n",
        "    return image_paths,labels\n"
      ],
      "metadata": {
        "id": "GmP8eIMJTTi3"
      },
      "execution_count": 7,
      "outputs": []
    },
    {
      "cell_type": "code",
      "source": [
        "train = pd.DataFrame()\n",
        "train['image'], train['label'] = createdataframe(TRAIN_DIR)"
      ],
      "metadata": {
        "id": "1pBXa3s-UY9y",
        "outputId": "c2db13d8-a2d5-4399-d68e-d2a3742f67e6",
        "colab": {
          "base_uri": "https://localhost:8080/"
        }
      },
      "execution_count": 8,
      "outputs": [
        {
          "output_type": "stream",
          "name": "stdout",
          "text": [
            "angry completed\n",
            "disgust completed\n",
            "neutral completed\n",
            "happy completed\n",
            "fear completed\n",
            "sad completed\n",
            "surprise completed\n"
          ]
        }
      ]
    },
    {
      "cell_type": "code",
      "source": [
        "print(train)"
      ],
      "metadata": {
        "id": "R_ZC4YwIUdl_",
        "outputId": "7465f6e0-6f65-4592-c0d7-1a6119473e61",
        "colab": {
          "base_uri": "https://localhost:8080/"
        }
      },
      "execution_count": 9,
      "outputs": [
        {
          "output_type": "stream",
          "name": "stdout",
          "text": [
            "                                          image     label\n",
            "0          /content/images/train/angry/9041.jpg     angry\n",
            "1         /content/images/train/angry/15112.jpg     angry\n",
            "2         /content/images/train/angry/35553.jpg     angry\n",
            "3           /content/images/train/angry/233.jpg     angry\n",
            "4         /content/images/train/angry/32841.jpg     angry\n",
            "...                                         ...       ...\n",
            "28816  /content/images/train/surprise/34583.jpg  surprise\n",
            "28817  /content/images/train/surprise/26086.jpg  surprise\n",
            "28818  /content/images/train/surprise/35285.jpg  surprise\n",
            "28819  /content/images/train/surprise/24890.jpg  surprise\n",
            "28820  /content/images/train/surprise/26186.jpg  surprise\n",
            "\n",
            "[28821 rows x 2 columns]\n"
          ]
        }
      ]
    },
    {
      "cell_type": "code",
      "source": [
        "test = pd.DataFrame()\n",
        "test['image'], test['label'] = createdataframe(TEST_DIR)"
      ],
      "metadata": {
        "id": "T0Mtry75Uj0g",
        "outputId": "1dbe7887-88fb-453b-cf29-2a8f718afd97",
        "colab": {
          "base_uri": "https://localhost:8080/"
        }
      },
      "execution_count": 10,
      "outputs": [
        {
          "output_type": "stream",
          "name": "stdout",
          "text": [
            "angry completed\n",
            "disgust completed\n",
            "neutral completed\n",
            "happy completed\n",
            "fear completed\n",
            "sad completed\n",
            "surprise completed\n"
          ]
        }
      ]
    },
    {
      "cell_type": "code",
      "source": [
        "print(test)\n",
        "print(test['image'])"
      ],
      "metadata": {
        "id": "T9Q7ry7YUxGZ",
        "outputId": "f3a21a85-1cfd-40ec-823c-20c4b03ca55b",
        "colab": {
          "base_uri": "https://localhost:8080/"
        }
      },
      "execution_count": 11,
      "outputs": [
        {
          "output_type": "stream",
          "name": "stdout",
          "text": [
            "                                        image     label\n",
            "0        /content/images/test/angry/13334.jpg     angry\n",
            "1        /content/images/test/angry/26446.jpg     angry\n",
            "2        /content/images/test/angry/35514.jpg     angry\n",
            "3        /content/images/test/angry/26264.jpg     angry\n",
            "4        /content/images/test/angry/33459.jpg     angry\n",
            "...                                       ...       ...\n",
            "7061   /content/images/test/surprise/8489.jpg  surprise\n",
            "7062  /content/images/test/surprise/10813.jpg  surprise\n",
            "7063  /content/images/test/surprise/20407.jpg  surprise\n",
            "7064  /content/images/test/surprise/22305.jpg  surprise\n",
            "7065  /content/images/test/surprise/24668.jpg  surprise\n",
            "\n",
            "[7066 rows x 2 columns]\n",
            "0          /content/images/test/angry/13334.jpg\n",
            "1          /content/images/test/angry/26446.jpg\n",
            "2          /content/images/test/angry/35514.jpg\n",
            "3          /content/images/test/angry/26264.jpg\n",
            "4          /content/images/test/angry/33459.jpg\n",
            "                         ...                   \n",
            "7061     /content/images/test/surprise/8489.jpg\n",
            "7062    /content/images/test/surprise/10813.jpg\n",
            "7063    /content/images/test/surprise/20407.jpg\n",
            "7064    /content/images/test/surprise/22305.jpg\n",
            "7065    /content/images/test/surprise/24668.jpg\n",
            "Name: image, Length: 7066, dtype: object\n"
          ]
        }
      ]
    },
    {
      "cell_type": "code",
      "source": [
        "from tqdm.notebook import tqdm"
      ],
      "metadata": {
        "id": "_-MM6GX7U07O"
      },
      "execution_count": 12,
      "outputs": []
    },
    {
      "cell_type": "code",
      "source": [
        "def extract_features(images):\n",
        "    features = []\n",
        "    for image in tqdm(images):\n",
        "        img = load_img(image,grayscale =  True )\n",
        "        img = np.array(img)\n",
        "        features.append(img)\n",
        "    features = np.array(features)\n",
        "    features = features.reshape(len(features),48,48,1)\n",
        "    return features"
      ],
      "metadata": {
        "id": "buSDQvFDVDfP"
      },
      "execution_count": 13,
      "outputs": []
    },
    {
      "cell_type": "code",
      "source": [
        "train_features = extract_features(train['image'])"
      ],
      "metadata": {
        "id": "58ABk7MuVKY_",
        "outputId": "01300e86-a335-4a21-c31e-86f71318cf36",
        "colab": {
          "base_uri": "https://localhost:8080/",
          "height": 105,
          "referenced_widgets": [
            "af8e0a93ab2e4ec4a49337a294bffcf7",
            "b0087d0500c14df38353e5fa437cbadc",
            "fc7680158ec747c598d8d16be778eb44",
            "01f08664ba4f46acb18809de4de8b3e9",
            "a8490e9e5fd9470db61e11f000e14082",
            "96d46cbbaffd492caee3fa68739f3af9",
            "1df26243807c48938141214b8afbe414",
            "03bd33ba7fe045d49dbb12f98dd732e1",
            "053cfc7e62a043e69aaf1008cd75dad5",
            "c63a992c134e4185bfcdfa38790a8b2f",
            "2362bfc059b64f5a978cf79020229dda"
          ]
        }
      },
      "execution_count": 14,
      "outputs": [
        {
          "output_type": "display_data",
          "data": {
            "text/plain": [
              "  0%|          | 0/28821 [00:00<?, ?it/s]"
            ],
            "application/vnd.jupyter.widget-view+json": {
              "version_major": 2,
              "version_minor": 0,
              "model_id": "af8e0a93ab2e4ec4a49337a294bffcf7"
            }
          },
          "metadata": {}
        },
        {
          "output_type": "stream",
          "name": "stderr",
          "text": [
            "/usr/local/lib/python3.10/dist-packages/keras/src/utils/image_utils.py:409: UserWarning: grayscale is deprecated. Please use color_mode = \"grayscale\"\n",
            "  warnings.warn(\n"
          ]
        }
      ]
    },
    {
      "cell_type": "code",
      "source": [
        "test_features = extract_features(test['image'])"
      ],
      "metadata": {
        "id": "v0yqDQ8UVQc7",
        "outputId": "cbc08416-8263-4678-c7e4-081540b022b3",
        "colab": {
          "base_uri": "https://localhost:8080/",
          "height": 49,
          "referenced_widgets": [
            "cbf177fe02e44df195608b1b65692453",
            "bf6737670cea4d69aa6ec876976890c5",
            "9b42aaed9aea4ae1844953f70480216a",
            "dc5df2a72b2b47feabf6338736b10919",
            "d45df65118bd4bb3981e37a1618973df",
            "613ba78bb8d54694aae7448117ca5aae",
            "bbd7adf24fd8483abac4ef25c7631fec",
            "5bd2e7b882b040c1af4bbc1d1e4765ed",
            "4524683687f24775b97feef625ceab9d",
            "9c2f55b246cb4f909aa999a0bf639cde",
            "a6411f50f6394d9c9d366f0f07cd2801"
          ]
        }
      },
      "execution_count": 15,
      "outputs": [
        {
          "output_type": "display_data",
          "data": {
            "text/plain": [
              "  0%|          | 0/7066 [00:00<?, ?it/s]"
            ],
            "application/vnd.jupyter.widget-view+json": {
              "version_major": 2,
              "version_minor": 0,
              "model_id": "cbf177fe02e44df195608b1b65692453"
            }
          },
          "metadata": {}
        }
      ]
    },
    {
      "cell_type": "code",
      "source": [
        "x_train = train_features/255.0\n",
        "x_test = test_features/255.0"
      ],
      "metadata": {
        "id": "WuSho_z1VVfS"
      },
      "execution_count": 16,
      "outputs": []
    },
    {
      "cell_type": "code",
      "source": [
        "from sklearn.preprocessing import LabelEncoder"
      ],
      "metadata": {
        "id": "w7oGPcpHVivF"
      },
      "execution_count": 17,
      "outputs": []
    },
    {
      "cell_type": "code",
      "source": [
        "le = LabelEncoder()\n",
        "le.fit(train['label'])"
      ],
      "metadata": {
        "id": "JQSfnvMiVkjD",
        "outputId": "e74f0293-1dc1-437e-fe6a-4fd25845e9f5",
        "colab": {
          "base_uri": "https://localhost:8080/",
          "height": 74
        }
      },
      "execution_count": 18,
      "outputs": [
        {
          "output_type": "execute_result",
          "data": {
            "text/plain": [
              "LabelEncoder()"
            ],
            "text/html": [
              "<style>#sk-container-id-1 {color: black;background-color: white;}#sk-container-id-1 pre{padding: 0;}#sk-container-id-1 div.sk-toggleable {background-color: white;}#sk-container-id-1 label.sk-toggleable__label {cursor: pointer;display: block;width: 100%;margin-bottom: 0;padding: 0.3em;box-sizing: border-box;text-align: center;}#sk-container-id-1 label.sk-toggleable__label-arrow:before {content: \"▸\";float: left;margin-right: 0.25em;color: #696969;}#sk-container-id-1 label.sk-toggleable__label-arrow:hover:before {color: black;}#sk-container-id-1 div.sk-estimator:hover label.sk-toggleable__label-arrow:before {color: black;}#sk-container-id-1 div.sk-toggleable__content {max-height: 0;max-width: 0;overflow: hidden;text-align: left;background-color: #f0f8ff;}#sk-container-id-1 div.sk-toggleable__content pre {margin: 0.2em;color: black;border-radius: 0.25em;background-color: #f0f8ff;}#sk-container-id-1 input.sk-toggleable__control:checked~div.sk-toggleable__content {max-height: 200px;max-width: 100%;overflow: auto;}#sk-container-id-1 input.sk-toggleable__control:checked~label.sk-toggleable__label-arrow:before {content: \"▾\";}#sk-container-id-1 div.sk-estimator input.sk-toggleable__control:checked~label.sk-toggleable__label {background-color: #d4ebff;}#sk-container-id-1 div.sk-label input.sk-toggleable__control:checked~label.sk-toggleable__label {background-color: #d4ebff;}#sk-container-id-1 input.sk-hidden--visually {border: 0;clip: rect(1px 1px 1px 1px);clip: rect(1px, 1px, 1px, 1px);height: 1px;margin: -1px;overflow: hidden;padding: 0;position: absolute;width: 1px;}#sk-container-id-1 div.sk-estimator {font-family: monospace;background-color: #f0f8ff;border: 1px dotted black;border-radius: 0.25em;box-sizing: border-box;margin-bottom: 0.5em;}#sk-container-id-1 div.sk-estimator:hover {background-color: #d4ebff;}#sk-container-id-1 div.sk-parallel-item::after {content: \"\";width: 100%;border-bottom: 1px solid gray;flex-grow: 1;}#sk-container-id-1 div.sk-label:hover label.sk-toggleable__label {background-color: #d4ebff;}#sk-container-id-1 div.sk-serial::before {content: \"\";position: absolute;border-left: 1px solid gray;box-sizing: border-box;top: 0;bottom: 0;left: 50%;z-index: 0;}#sk-container-id-1 div.sk-serial {display: flex;flex-direction: column;align-items: center;background-color: white;padding-right: 0.2em;padding-left: 0.2em;position: relative;}#sk-container-id-1 div.sk-item {position: relative;z-index: 1;}#sk-container-id-1 div.sk-parallel {display: flex;align-items: stretch;justify-content: center;background-color: white;position: relative;}#sk-container-id-1 div.sk-item::before, #sk-container-id-1 div.sk-parallel-item::before {content: \"\";position: absolute;border-left: 1px solid gray;box-sizing: border-box;top: 0;bottom: 0;left: 50%;z-index: -1;}#sk-container-id-1 div.sk-parallel-item {display: flex;flex-direction: column;z-index: 1;position: relative;background-color: white;}#sk-container-id-1 div.sk-parallel-item:first-child::after {align-self: flex-end;width: 50%;}#sk-container-id-1 div.sk-parallel-item:last-child::after {align-self: flex-start;width: 50%;}#sk-container-id-1 div.sk-parallel-item:only-child::after {width: 0;}#sk-container-id-1 div.sk-dashed-wrapped {border: 1px dashed gray;margin: 0 0.4em 0.5em 0.4em;box-sizing: border-box;padding-bottom: 0.4em;background-color: white;}#sk-container-id-1 div.sk-label label {font-family: monospace;font-weight: bold;display: inline-block;line-height: 1.2em;}#sk-container-id-1 div.sk-label-container {text-align: center;}#sk-container-id-1 div.sk-container {/* jupyter's `normalize.less` sets `[hidden] { display: none; }` but bootstrap.min.css set `[hidden] { display: none !important; }` so we also need the `!important` here to be able to override the default hidden behavior on the sphinx rendered scikit-learn.org. See: https://github.com/scikit-learn/scikit-learn/issues/21755 */display: inline-block !important;position: relative;}#sk-container-id-1 div.sk-text-repr-fallback {display: none;}</style><div id=\"sk-container-id-1\" class=\"sk-top-container\"><div class=\"sk-text-repr-fallback\"><pre>LabelEncoder()</pre><b>In a Jupyter environment, please rerun this cell to show the HTML representation or trust the notebook. <br />On GitHub, the HTML representation is unable to render, please try loading this page with nbviewer.org.</b></div><div class=\"sk-container\" hidden><div class=\"sk-item\"><div class=\"sk-estimator sk-toggleable\"><input class=\"sk-toggleable__control sk-hidden--visually\" id=\"sk-estimator-id-1\" type=\"checkbox\" checked><label for=\"sk-estimator-id-1\" class=\"sk-toggleable__label sk-toggleable__label-arrow\">LabelEncoder</label><div class=\"sk-toggleable__content\"><pre>LabelEncoder()</pre></div></div></div></div></div>"
            ]
          },
          "metadata": {},
          "execution_count": 18
        }
      ]
    },
    {
      "cell_type": "code",
      "source": [
        "y_train = le.transform(train['label'])\n",
        "y_test = le.transform(test['label'])"
      ],
      "metadata": {
        "id": "rbHT_xnYVpez"
      },
      "execution_count": 19,
      "outputs": []
    },
    {
      "cell_type": "code",
      "source": [
        "y_train = to_categorical(y_train,num_classes = 7)\n",
        "y_test = to_categorical(y_test,num_classes = 7)"
      ],
      "metadata": {
        "id": "rvUD2cJ2VtWy"
      },
      "execution_count": 20,
      "outputs": []
    },
    {
      "cell_type": "code",
      "source": [
        "model = Sequential()\n",
        "# convolutional layers\n",
        "model.add(Conv2D(128, kernel_size=(3,3), activation='relu', input_shape=(48,48,1)))\n",
        "model.add(MaxPooling2D(pool_size=(2,2)))\n",
        "model.add(Dropout(0.4))\n",
        "\n",
        "model.add(Conv2D(256, kernel_size=(3,3), activation='relu'))\n",
        "model.add(MaxPooling2D(pool_size=(2,2)))\n",
        "model.add(Dropout(0.4))\n",
        "\n",
        "model.add(Conv2D(512, kernel_size=(3,3), activation='relu'))\n",
        "model.add(MaxPooling2D(pool_size=(2,2)))\n",
        "model.add(Dropout(0.4))\n",
        "\n",
        "model.add(Conv2D(512, kernel_size=(3,3), activation='relu'))\n",
        "model.add(MaxPooling2D(pool_size=(2,2)))\n",
        "model.add(Dropout(0.4))\n",
        "\n",
        "model.add(Flatten())\n",
        "# fully connected layers\n",
        "model.add(Dense(512, activation='relu'))\n",
        "model.add(Dropout(0.4))\n",
        "model.add(Dense(256, activation='relu'))\n",
        "model.add(Dropout(0.3))\n",
        "# output layer\n",
        "model.add(Dense(7, activation='softmax'))"
      ],
      "metadata": {
        "id": "WbGMP6H7VxBF"
      },
      "execution_count": 21,
      "outputs": []
    },
    {
      "cell_type": "code",
      "source": [
        "model.compile(optimizer = 'adam', loss = 'categorical_crossentropy', metrics = 'accuracy' )"
      ],
      "metadata": {
        "id": "GeO4gcrjV7Je"
      },
      "execution_count": 22,
      "outputs": []
    },
    {
      "cell_type": "code",
      "source": [
        "model.fit(x= x_train,y = y_train, batch_size = 128, epochs = 100, validation_data = (x_test,y_test))"
      ],
      "metadata": {
        "id": "eD1mW5YVV-e2",
        "outputId": "daf34158-db49-4a1c-f0b2-c0fe420b6fda",
        "colab": {
          "base_uri": "https://localhost:8080/"
        }
      },
      "execution_count": 23,
      "outputs": [
        {
          "output_type": "stream",
          "name": "stdout",
          "text": [
            "Epoch 1/100\n",
            "226/226 [==============================] - 22s 58ms/step - loss: 1.8215 - accuracy: 0.2448 - val_loss: 1.7970 - val_accuracy: 0.2624\n",
            "Epoch 2/100\n",
            "226/226 [==============================] - 11s 50ms/step - loss: 1.7839 - accuracy: 0.2570 - val_loss: 1.7261 - val_accuracy: 0.2920\n",
            "Epoch 3/100\n",
            "226/226 [==============================] - 11s 50ms/step - loss: 1.6682 - accuracy: 0.3281 - val_loss: 1.5104 - val_accuracy: 0.4082\n",
            "Epoch 4/100\n",
            "226/226 [==============================] - 11s 50ms/step - loss: 1.5325 - accuracy: 0.3986 - val_loss: 1.4239 - val_accuracy: 0.4465\n",
            "Epoch 5/100\n",
            "226/226 [==============================] - 11s 50ms/step - loss: 1.4569 - accuracy: 0.4377 - val_loss: 1.3464 - val_accuracy: 0.4816\n",
            "Epoch 6/100\n",
            "226/226 [==============================] - 11s 50ms/step - loss: 1.4012 - accuracy: 0.4613 - val_loss: 1.3077 - val_accuracy: 0.4948\n",
            "Epoch 7/100\n",
            "226/226 [==============================] - 11s 50ms/step - loss: 1.3702 - accuracy: 0.4742 - val_loss: 1.2430 - val_accuracy: 0.5239\n",
            "Epoch 8/100\n",
            "226/226 [==============================] - 12s 53ms/step - loss: 1.3329 - accuracy: 0.4891 - val_loss: 1.2307 - val_accuracy: 0.5327\n",
            "Epoch 9/100\n",
            "226/226 [==============================] - 11s 51ms/step - loss: 1.3111 - accuracy: 0.5001 - val_loss: 1.1996 - val_accuracy: 0.5399\n",
            "Epoch 10/100\n",
            "226/226 [==============================] - 11s 50ms/step - loss: 1.2864 - accuracy: 0.5061 - val_loss: 1.2131 - val_accuracy: 0.5453\n",
            "Epoch 11/100\n",
            "226/226 [==============================] - 11s 51ms/step - loss: 1.2689 - accuracy: 0.5158 - val_loss: 1.1736 - val_accuracy: 0.5559\n",
            "Epoch 12/100\n",
            "226/226 [==============================] - 11s 50ms/step - loss: 1.2451 - accuracy: 0.5243 - val_loss: 1.1844 - val_accuracy: 0.5545\n",
            "Epoch 13/100\n",
            "226/226 [==============================] - 12s 52ms/step - loss: 1.2363 - accuracy: 0.5278 - val_loss: 1.1593 - val_accuracy: 0.5655\n",
            "Epoch 14/100\n",
            "226/226 [==============================] - 11s 50ms/step - loss: 1.2230 - accuracy: 0.5324 - val_loss: 1.1425 - val_accuracy: 0.5674\n",
            "Epoch 15/100\n",
            "226/226 [==============================] - 11s 50ms/step - loss: 1.2058 - accuracy: 0.5418 - val_loss: 1.1337 - val_accuracy: 0.5743\n",
            "Epoch 16/100\n",
            "226/226 [==============================] - 11s 50ms/step - loss: 1.1890 - accuracy: 0.5502 - val_loss: 1.1384 - val_accuracy: 0.5729\n",
            "Epoch 17/100\n",
            "226/226 [==============================] - 11s 51ms/step - loss: 1.1777 - accuracy: 0.5530 - val_loss: 1.1063 - val_accuracy: 0.5885\n",
            "Epoch 18/100\n",
            "226/226 [==============================] - 11s 50ms/step - loss: 1.1660 - accuracy: 0.5606 - val_loss: 1.1185 - val_accuracy: 0.5828\n",
            "Epoch 19/100\n",
            "226/226 [==============================] - 11s 50ms/step - loss: 1.1527 - accuracy: 0.5636 - val_loss: 1.1030 - val_accuracy: 0.5865\n",
            "Epoch 20/100\n",
            "226/226 [==============================] - 11s 50ms/step - loss: 1.1525 - accuracy: 0.5641 - val_loss: 1.0971 - val_accuracy: 0.5920\n",
            "Epoch 21/100\n",
            "226/226 [==============================] - 11s 50ms/step - loss: 1.1398 - accuracy: 0.5675 - val_loss: 1.1037 - val_accuracy: 0.5849\n",
            "Epoch 22/100\n",
            "226/226 [==============================] - 12s 53ms/step - loss: 1.1305 - accuracy: 0.5723 - val_loss: 1.0860 - val_accuracy: 0.5971\n",
            "Epoch 23/100\n",
            "226/226 [==============================] - 11s 50ms/step - loss: 1.1217 - accuracy: 0.5737 - val_loss: 1.0748 - val_accuracy: 0.5969\n",
            "Epoch 24/100\n",
            "226/226 [==============================] - 11s 50ms/step - loss: 1.1115 - accuracy: 0.5821 - val_loss: 1.0781 - val_accuracy: 0.5964\n",
            "Epoch 25/100\n",
            "226/226 [==============================] - 11s 51ms/step - loss: 1.1024 - accuracy: 0.5807 - val_loss: 1.0855 - val_accuracy: 0.5981\n",
            "Epoch 26/100\n",
            "226/226 [==============================] - 11s 51ms/step - loss: 1.0963 - accuracy: 0.5849 - val_loss: 1.0820 - val_accuracy: 0.5981\n",
            "Epoch 27/100\n",
            "226/226 [==============================] - 11s 51ms/step - loss: 1.0828 - accuracy: 0.5912 - val_loss: 1.0710 - val_accuracy: 0.6009\n",
            "Epoch 28/100\n",
            "226/226 [==============================] - 11s 50ms/step - loss: 1.0766 - accuracy: 0.5934 - val_loss: 1.0700 - val_accuracy: 0.6008\n",
            "Epoch 29/100\n",
            "226/226 [==============================] - 11s 50ms/step - loss: 1.0727 - accuracy: 0.5926 - val_loss: 1.0687 - val_accuracy: 0.6018\n",
            "Epoch 30/100\n",
            "226/226 [==============================] - 12s 53ms/step - loss: 1.0664 - accuracy: 0.5976 - val_loss: 1.0620 - val_accuracy: 0.6059\n",
            "Epoch 31/100\n",
            "226/226 [==============================] - 11s 50ms/step - loss: 1.0568 - accuracy: 0.6000 - val_loss: 1.0677 - val_accuracy: 0.6047\n",
            "Epoch 32/100\n",
            "226/226 [==============================] - 11s 50ms/step - loss: 1.0588 - accuracy: 0.6012 - val_loss: 1.0540 - val_accuracy: 0.6091\n",
            "Epoch 33/100\n",
            "226/226 [==============================] - 11s 50ms/step - loss: 1.0427 - accuracy: 0.6066 - val_loss: 1.0592 - val_accuracy: 0.6094\n",
            "Epoch 34/100\n",
            "226/226 [==============================] - 11s 50ms/step - loss: 1.0383 - accuracy: 0.6076 - val_loss: 1.0639 - val_accuracy: 0.6057\n",
            "Epoch 35/100\n",
            "226/226 [==============================] - 11s 51ms/step - loss: 1.0299 - accuracy: 0.6119 - val_loss: 1.0619 - val_accuracy: 0.6119\n",
            "Epoch 36/100\n",
            "226/226 [==============================] - 11s 51ms/step - loss: 1.0165 - accuracy: 0.6142 - val_loss: 1.0588 - val_accuracy: 0.6081\n",
            "Epoch 37/100\n",
            "226/226 [==============================] - 11s 50ms/step - loss: 1.0173 - accuracy: 0.6153 - val_loss: 1.0531 - val_accuracy: 0.6114\n",
            "Epoch 38/100\n",
            "226/226 [==============================] - 11s 51ms/step - loss: 1.0213 - accuracy: 0.6163 - val_loss: 1.0494 - val_accuracy: 0.6121\n",
            "Epoch 39/100\n",
            "226/226 [==============================] - 11s 51ms/step - loss: 1.0028 - accuracy: 0.6218 - val_loss: 1.0609 - val_accuracy: 0.6117\n",
            "Epoch 40/100\n",
            "226/226 [==============================] - 11s 51ms/step - loss: 0.9992 - accuracy: 0.6254 - val_loss: 1.0649 - val_accuracy: 0.6050\n",
            "Epoch 41/100\n",
            "226/226 [==============================] - 11s 50ms/step - loss: 0.9913 - accuracy: 0.6291 - val_loss: 1.0569 - val_accuracy: 0.6135\n",
            "Epoch 42/100\n",
            "226/226 [==============================] - 11s 51ms/step - loss: 0.9801 - accuracy: 0.6282 - val_loss: 1.0519 - val_accuracy: 0.6149\n",
            "Epoch 43/100\n",
            "226/226 [==============================] - 12s 53ms/step - loss: 0.9797 - accuracy: 0.6313 - val_loss: 1.0642 - val_accuracy: 0.6100\n",
            "Epoch 44/100\n",
            "226/226 [==============================] - 11s 50ms/step - loss: 0.9802 - accuracy: 0.6324 - val_loss: 1.0508 - val_accuracy: 0.6166\n",
            "Epoch 45/100\n",
            "226/226 [==============================] - 11s 50ms/step - loss: 0.9593 - accuracy: 0.6376 - val_loss: 1.0535 - val_accuracy: 0.6136\n",
            "Epoch 46/100\n",
            "226/226 [==============================] - 11s 50ms/step - loss: 0.9585 - accuracy: 0.6382 - val_loss: 1.0487 - val_accuracy: 0.6179\n",
            "Epoch 47/100\n",
            "226/226 [==============================] - 11s 50ms/step - loss: 0.9483 - accuracy: 0.6451 - val_loss: 1.0491 - val_accuracy: 0.6131\n",
            "Epoch 48/100\n",
            "226/226 [==============================] - 11s 51ms/step - loss: 0.9543 - accuracy: 0.6456 - val_loss: 1.0457 - val_accuracy: 0.6159\n",
            "Epoch 49/100\n",
            "226/226 [==============================] - 11s 51ms/step - loss: 0.9452 - accuracy: 0.6455 - val_loss: 1.0603 - val_accuracy: 0.6149\n",
            "Epoch 50/100\n",
            "226/226 [==============================] - 11s 50ms/step - loss: 0.9434 - accuracy: 0.6457 - val_loss: 1.0468 - val_accuracy: 0.6203\n",
            "Epoch 51/100\n",
            "226/226 [==============================] - 11s 51ms/step - loss: 0.9445 - accuracy: 0.6491 - val_loss: 1.0341 - val_accuracy: 0.6252\n",
            "Epoch 52/100\n",
            "226/226 [==============================] - 11s 50ms/step - loss: 0.9338 - accuracy: 0.6506 - val_loss: 1.0401 - val_accuracy: 0.6223\n",
            "Epoch 53/100\n",
            "226/226 [==============================] - 11s 50ms/step - loss: 0.9299 - accuracy: 0.6509 - val_loss: 1.0386 - val_accuracy: 0.6221\n",
            "Epoch 54/100\n",
            "226/226 [==============================] - 11s 50ms/step - loss: 0.9237 - accuracy: 0.6525 - val_loss: 1.0496 - val_accuracy: 0.6186\n",
            "Epoch 55/100\n",
            "226/226 [==============================] - 11s 50ms/step - loss: 0.9221 - accuracy: 0.6557 - val_loss: 1.0623 - val_accuracy: 0.6129\n",
            "Epoch 56/100\n",
            "226/226 [==============================] - 11s 51ms/step - loss: 0.9129 - accuracy: 0.6571 - val_loss: 1.0360 - val_accuracy: 0.6219\n",
            "Epoch 57/100\n",
            "226/226 [==============================] - 11s 50ms/step - loss: 0.9025 - accuracy: 0.6603 - val_loss: 1.0402 - val_accuracy: 0.6226\n",
            "Epoch 58/100\n",
            "226/226 [==============================] - 11s 51ms/step - loss: 0.8991 - accuracy: 0.6656 - val_loss: 1.0484 - val_accuracy: 0.6200\n",
            "Epoch 59/100\n",
            "226/226 [==============================] - 11s 50ms/step - loss: 0.9007 - accuracy: 0.6643 - val_loss: 1.0390 - val_accuracy: 0.6193\n",
            "Epoch 60/100\n",
            "226/226 [==============================] - 11s 50ms/step - loss: 0.8930 - accuracy: 0.6667 - val_loss: 1.0307 - val_accuracy: 0.6248\n",
            "Epoch 61/100\n",
            "226/226 [==============================] - 11s 50ms/step - loss: 0.8850 - accuracy: 0.6690 - val_loss: 1.0379 - val_accuracy: 0.6224\n",
            "Epoch 62/100\n",
            "226/226 [==============================] - 12s 53ms/step - loss: 0.8774 - accuracy: 0.6689 - val_loss: 1.0388 - val_accuracy: 0.6207\n",
            "Epoch 63/100\n",
            "226/226 [==============================] - 11s 51ms/step - loss: 0.8777 - accuracy: 0.6758 - val_loss: 1.0331 - val_accuracy: 0.6250\n",
            "Epoch 64/100\n",
            "226/226 [==============================] - 11s 51ms/step - loss: 0.8739 - accuracy: 0.6748 - val_loss: 1.0459 - val_accuracy: 0.6227\n",
            "Epoch 65/100\n",
            "226/226 [==============================] - 11s 50ms/step - loss: 0.8660 - accuracy: 0.6785 - val_loss: 1.0404 - val_accuracy: 0.6244\n",
            "Epoch 66/100\n",
            "226/226 [==============================] - 11s 51ms/step - loss: 0.8577 - accuracy: 0.6799 - val_loss: 1.0413 - val_accuracy: 0.6219\n",
            "Epoch 67/100\n",
            "226/226 [==============================] - 11s 51ms/step - loss: 0.8645 - accuracy: 0.6791 - val_loss: 1.0356 - val_accuracy: 0.6203\n",
            "Epoch 68/100\n",
            "226/226 [==============================] - 11s 51ms/step - loss: 0.8447 - accuracy: 0.6875 - val_loss: 1.0532 - val_accuracy: 0.6245\n",
            "Epoch 69/100\n",
            "226/226 [==============================] - 11s 51ms/step - loss: 0.8603 - accuracy: 0.6802 - val_loss: 1.0455 - val_accuracy: 0.6240\n",
            "Epoch 70/100\n",
            "226/226 [==============================] - 11s 50ms/step - loss: 0.8464 - accuracy: 0.6851 - val_loss: 1.0469 - val_accuracy: 0.6296\n",
            "Epoch 71/100\n",
            "226/226 [==============================] - 11s 50ms/step - loss: 0.8481 - accuracy: 0.6844 - val_loss: 1.0375 - val_accuracy: 0.6254\n",
            "Epoch 72/100\n",
            "226/226 [==============================] - 11s 51ms/step - loss: 0.8367 - accuracy: 0.6859 - val_loss: 1.0397 - val_accuracy: 0.6245\n",
            "Epoch 73/100\n",
            "226/226 [==============================] - 11s 50ms/step - loss: 0.8341 - accuracy: 0.6920 - val_loss: 1.0337 - val_accuracy: 0.6281\n",
            "Epoch 74/100\n",
            "226/226 [==============================] - 11s 51ms/step - loss: 0.8259 - accuracy: 0.6917 - val_loss: 1.0445 - val_accuracy: 0.6238\n",
            "Epoch 75/100\n",
            "226/226 [==============================] - 11s 51ms/step - loss: 0.8229 - accuracy: 0.6946 - val_loss: 1.0312 - val_accuracy: 0.6274\n",
            "Epoch 76/100\n",
            "226/226 [==============================] - 11s 50ms/step - loss: 0.8207 - accuracy: 0.6979 - val_loss: 1.0409 - val_accuracy: 0.6248\n",
            "Epoch 77/100\n",
            "226/226 [==============================] - 11s 51ms/step - loss: 0.8191 - accuracy: 0.6960 - val_loss: 1.0451 - val_accuracy: 0.6224\n",
            "Epoch 78/100\n",
            "226/226 [==============================] - 11s 50ms/step - loss: 0.8157 - accuracy: 0.6976 - val_loss: 1.0336 - val_accuracy: 0.6296\n",
            "Epoch 79/100\n",
            "226/226 [==============================] - 11s 51ms/step - loss: 0.8065 - accuracy: 0.6998 - val_loss: 1.0453 - val_accuracy: 0.6254\n",
            "Epoch 80/100\n",
            "226/226 [==============================] - 11s 51ms/step - loss: 0.8091 - accuracy: 0.7000 - val_loss: 1.0263 - val_accuracy: 0.6325\n",
            "Epoch 81/100\n",
            "226/226 [==============================] - 11s 50ms/step - loss: 0.7994 - accuracy: 0.7044 - val_loss: 1.0361 - val_accuracy: 0.6288\n",
            "Epoch 82/100\n",
            "226/226 [==============================] - 11s 50ms/step - loss: 0.7987 - accuracy: 0.7083 - val_loss: 1.0391 - val_accuracy: 0.6291\n",
            "Epoch 83/100\n",
            "226/226 [==============================] - 11s 50ms/step - loss: 0.7939 - accuracy: 0.7055 - val_loss: 1.0255 - val_accuracy: 0.6329\n",
            "Epoch 84/100\n",
            "226/226 [==============================] - 11s 50ms/step - loss: 0.7848 - accuracy: 0.7106 - val_loss: 1.0328 - val_accuracy: 0.6299\n",
            "Epoch 85/100\n",
            "226/226 [==============================] - 11s 51ms/step - loss: 0.7904 - accuracy: 0.7111 - val_loss: 1.0313 - val_accuracy: 0.6278\n",
            "Epoch 86/100\n",
            "226/226 [==============================] - 11s 51ms/step - loss: 0.7856 - accuracy: 0.7113 - val_loss: 1.0453 - val_accuracy: 0.6267\n",
            "Epoch 87/100\n",
            "226/226 [==============================] - 11s 51ms/step - loss: 0.7771 - accuracy: 0.7156 - val_loss: 1.0309 - val_accuracy: 0.6326\n",
            "Epoch 88/100\n",
            "226/226 [==============================] - 11s 50ms/step - loss: 0.7649 - accuracy: 0.7157 - val_loss: 1.0474 - val_accuracy: 0.6277\n",
            "Epoch 89/100\n",
            "226/226 [==============================] - 11s 51ms/step - loss: 0.7713 - accuracy: 0.7182 - val_loss: 1.0421 - val_accuracy: 0.6349\n",
            "Epoch 90/100\n",
            "226/226 [==============================] - 11s 51ms/step - loss: 0.7596 - accuracy: 0.7203 - val_loss: 1.0669 - val_accuracy: 0.6204\n",
            "Epoch 91/100\n",
            "226/226 [==============================] - 11s 51ms/step - loss: 0.7721 - accuracy: 0.7168 - val_loss: 1.0485 - val_accuracy: 0.6254\n",
            "Epoch 92/100\n",
            "226/226 [==============================] - 11s 51ms/step - loss: 0.7586 - accuracy: 0.7251 - val_loss: 1.0395 - val_accuracy: 0.6312\n",
            "Epoch 93/100\n",
            "226/226 [==============================] - 11s 51ms/step - loss: 0.7531 - accuracy: 0.7234 - val_loss: 1.0542 - val_accuracy: 0.6292\n",
            "Epoch 94/100\n",
            "226/226 [==============================] - 11s 51ms/step - loss: 0.7550 - accuracy: 0.7271 - val_loss: 1.0559 - val_accuracy: 0.6265\n",
            "Epoch 95/100\n",
            "226/226 [==============================] - 11s 50ms/step - loss: 0.7512 - accuracy: 0.7252 - val_loss: 1.0344 - val_accuracy: 0.6237\n",
            "Epoch 96/100\n",
            "226/226 [==============================] - 11s 50ms/step - loss: 0.7521 - accuracy: 0.7260 - val_loss: 1.0342 - val_accuracy: 0.6286\n",
            "Epoch 97/100\n",
            "226/226 [==============================] - 11s 50ms/step - loss: 0.7425 - accuracy: 0.7301 - val_loss: 1.0462 - val_accuracy: 0.6311\n",
            "Epoch 98/100\n",
            "226/226 [==============================] - 11s 51ms/step - loss: 0.7465 - accuracy: 0.7261 - val_loss: 1.0538 - val_accuracy: 0.6282\n",
            "Epoch 99/100\n",
            "226/226 [==============================] - 11s 51ms/step - loss: 0.7319 - accuracy: 0.7315 - val_loss: 1.0305 - val_accuracy: 0.6349\n",
            "Epoch 100/100\n",
            "226/226 [==============================] - 12s 53ms/step - loss: 0.7365 - accuracy: 0.7318 - val_loss: 1.0417 - val_accuracy: 0.6325\n"
          ]
        },
        {
          "output_type": "execute_result",
          "data": {
            "text/plain": [
              "<keras.src.callbacks.History at 0x7b7c388be950>"
            ]
          },
          "metadata": {},
          "execution_count": 23
        }
      ]
    },
    {
      "cell_type": "code",
      "source": [
        "model_json = model.to_json()\n",
        "with open(\"emotiondetector.json\",'w') as json_file:\n",
        "    json_file.write(model_json)\n",
        "model.save(\"emotiondetector.h5\")"
      ],
      "metadata": {
        "id": "-MzBiaCWak8f",
        "outputId": "c605ee82-8ba9-49db-8600-22565405262d",
        "colab": {
          "base_uri": "https://localhost:8080/"
        }
      },
      "execution_count": 24,
      "outputs": [
        {
          "output_type": "stream",
          "name": "stderr",
          "text": [
            "/usr/local/lib/python3.10/dist-packages/keras/src/engine/training.py:3103: UserWarning: You are saving your model as an HDF5 file via `model.save()`. This file format is considered legacy. We recommend using instead the native Keras format, e.g. `model.save('my_model.keras')`.\n",
            "  saving_api.save_model(\n"
          ]
        }
      ]
    },
    {
      "cell_type": "code",
      "source": [],
      "metadata": {
        "id": "QRjbaypxa_3Y"
      },
      "execution_count": null,
      "outputs": []
    }
  ]
}